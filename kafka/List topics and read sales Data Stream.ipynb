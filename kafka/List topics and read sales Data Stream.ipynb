{
 "cells": [
  {
   "cell_type": "code",
   "execution_count": 11,
   "id": "15237cdc",
   "metadata": {},
   "outputs": [
    {
     "data": {
      "text/plain": [
       "{'__confluent.support.metrics',\n",
       " '_schemas',\n",
       " 'connect-status',\n",
       " 'connect_configs',\n",
       " 'connect_offsets',\n",
       " 'source.public.person',\n",
       " 'test'}"
      ]
     },
     "execution_count": 11,
     "metadata": {},
     "output_type": "execute_result"
    }
   ],
   "source": [
    "from kafka import KafkaConsumer\n",
    "bootstrap_servers = ['localhost:29092']\n",
    "consumer = KafkaConsumer( bootstrap_servers=bootstrap_servers)\n",
    "consumer.topics()"
   ]
  },
  {
   "cell_type": "code",
   "execution_count": null,
   "id": "1ad534b9",
   "metadata": {},
   "outputs": [],
   "source": []
  },
  {
   "cell_type": "code",
   "execution_count": null,
   "id": "d061bd75",
   "metadata": {},
   "outputs": [
    {
     "name": "stdout",
     "output_type": "stream",
     "text": [
      "{'id': 1, 'name': 'Alice Silva', 'age': 30, 'email': 'alice.silva@example.com', 'created_at': 1732974315315573}\n",
      "{'id': 2, 'name': 'Bruno Costa', 'age': 25, 'email': 'bruno.costa@example.com', 'created_at': 1732974315315573}\n",
      "{'id': 3, 'name': 'Carla Mendes', 'age': 28, 'email': 'carla.mendes@example.com', 'created_at': 1732974315315573}\n",
      "{'id': 4, 'name': 'Daniel Oliveira', 'age': 35, 'email': 'daniel.oliveira@example.com', 'created_at': 1732974315315573}\n",
      "{'id': 5, 'name': 'Eva Santos', 'age': 22, 'email': 'eva.santos@example.com', 'created_at': 1732974315315573}\n",
      "{'id': 7, 'name': 'Gustavo novo', 'age': 22, 'email': 'gustavonovo@example.com', 'created_at': 1732975624859019}\n"
     ]
    }
   ],
   "source": [
    "import json\n",
    "topicName = 'source.public.person'\n",
    "# Initialize consumer variable\n",
    "consumer = KafkaConsumer (topicName , auto_offset_reset='earliest', bootstrap_servers = bootstrap_servers)\n",
    "\n",
    "# Read and print message from consumer\n",
    "for msg in consumer:\n",
    "    print(json.loads(msg.value))"
   ]
  },
  {
   "cell_type": "code",
   "execution_count": null,
   "id": "8af0adfb",
   "metadata": {},
   "outputs": [],
   "source": []
  }
 ],
 "metadata": {
  "kernelspec": {
   "display_name": ".venv",
   "language": "python",
   "name": "python3"
  },
  "language_info": {
   "codemirror_mode": {
    "name": "ipython",
    "version": 3
   },
   "file_extension": ".py",
   "mimetype": "text/x-python",
   "name": "python",
   "nbconvert_exporter": "python",
   "pygments_lexer": "ipython3",
   "version": "3.12.1"
  }
 },
 "nbformat": 4,
 "nbformat_minor": 5
}
